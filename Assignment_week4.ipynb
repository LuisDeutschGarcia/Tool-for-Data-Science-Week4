{
 "cells": [
  {
   "cell_type": "markdown",
   "metadata": {},
   "source": [
    "# My Jupyter Notebook on IBM Watson Studio"
   ]
  },
  {
   "cell_type": "markdown",
   "metadata": {},
   "source": [
    "<b>**Luis Deutsch Garcia**</b>"
   ]
  },
  {
   "cell_type": "markdown",
   "metadata": {},
   "source": [
    "<i>I am interested in Data Science because I can apply all these concepts in the Manufacturing area to create better products and processses</i>"
   ]
  },
  {
   "cell_type": "markdown",
   "metadata": {},
   "source": [
    "### The following code is to calculate the hypotenuse given the two other edges of the triangle"
   ]
  },
  {
   "cell_type": "code",
   "execution_count": 5,
   "metadata": {},
   "outputs": [
    {
     "name": "stdout",
     "output_type": "stream",
     "text": [
      "The hypotenuse of the triangle is 5.0\n"
     ]
    }
   ],
   "source": [
    "import numpy as np\n",
    "a = 4\n",
    "b = 3 \n",
    "c = np.sqrt(a**2 + b**2)\n",
    "print(f\"The hypotenuse of the triangle is {c}\")"
   ]
  },
  {
   "cell_type": "markdown",
   "metadata": {},
   "source": [
    "Value of edges:\n",
    "<ul>\n",
    "<li>First edge: 4</li>\n",
    "<li>Second edge: 3</li>\n",
    "<li>Third edge: 5</li>\n",
    "</ul>\n",
    "\n",
    "[Pythagoream Theorem](https://en.wikipedia.org/wiki/Pythagorean_theorem)\n",
    "<table>\n",
    "<tr>\n",
    "    <th>Edge 1</th>\n",
    "    <th>Edge 2</th>\n",
    "    <th>Edge 3</th> \n",
    "</tr>\n",
    "\n",
    "<tr>\n",
    "    <td>4</td> \n",
    "    <td>3</td> \n",
    "    <td>5</td>\n",
    "</tr>\n",
    "\n",
    "</table>"
   ]
  }
 ],
 "metadata": {
  "kernelspec": {
   "display_name": "Python",
   "language": "python",
   "name": "conda-env-python-py"
  },
  "language_info": {
   "codemirror_mode": {
    "name": "ipython",
    "version": 3
   },
   "file_extension": ".py",
   "mimetype": "text/x-python",
   "name": "python",
   "nbconvert_exporter": "python",
   "pygments_lexer": "ipython3",
   "version": "3.7.12"
  }
 },
 "nbformat": 4,
 "nbformat_minor": 4
}
